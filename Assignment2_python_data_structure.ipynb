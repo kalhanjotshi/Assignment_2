{
  "nbformat": 4,
  "nbformat_minor": 0,
  "metadata": {
    "colab": {
      "provenance": []
    },
    "kernelspec": {
      "name": "python3",
      "display_name": "Python 3"
    },
    "language_info": {
      "name": "python"
    }
  },
  "cells": [
    {
      "cell_type": "markdown",
      "source": [
        "1. String Slicing in Python:\n",
        "String slicing allows you to extract specific parts of a string using the syntax.\n",
        "\n",
        "for eg:-"
      ],
      "metadata": {
        "id": "vH71PP2gylHZ"
      }
    },
    {
      "cell_type": "code",
      "source": [
        "s=\"hello world!\"\n",
        "print(s[0:5])"
      ],
      "metadata": {
        "colab": {
          "base_uri": "https://localhost:8080/"
        },
        "id": "dWhbtjVXyu-a",
        "outputId": "5ea3e110-a90d-4a24-e3dc-a7c91755134e"
      },
      "execution_count": 2,
      "outputs": [
        {
          "output_type": "stream",
          "name": "stdout",
          "text": [
            "hello\n"
          ]
        }
      ]
    },
    {
      "cell_type": "code",
      "source": [
        "print(s[::-1])"
      ],
      "metadata": {
        "colab": {
          "base_uri": "https://localhost:8080/"
        },
        "id": "VEStadPtzumW",
        "outputId": "5f7ecb27-9492-4fdc-8ca5-fd6900c807d9"
      },
      "execution_count": 3,
      "outputs": [
        {
          "output_type": "stream",
          "name": "stdout",
          "text": [
            "!dlrow olleh\n"
          ]
        }
      ]
    },
    {
      "cell_type": "code",
      "source": [],
      "metadata": {
        "id": "s_A4Nbj8z_o_"
      },
      "execution_count": null,
      "outputs": []
    },
    {
      "cell_type": "markdown",
      "source": [
        "2.  Key Features of Lists in Python\n",
        "Ordered:\n",
        "\n",
        "Lists maintain the order of elements.\n",
        "\n",
        "Mutable: Elements in a list can be changed.\n",
        "\n",
        "Allows Duplicates: Lists can contain duplicate elements.\n",
        "\n",
        "Dynamic: Size of lists can change dynamically."
      ],
      "metadata": {
        "id": "Opp3X9No0JX3"
      }
    },
    {
      "cell_type": "markdown",
      "source": [
        "3. - Access in the list:\n",
        "\n",
        "for eg:-"
      ],
      "metadata": {
        "id": "AsHV2fGy1gxR"
      }
    },
    {
      "cell_type": "code",
      "source": [
        "list_cont = [15,20,25,30,35,40]\n",
        "print(list_cont[2])"
      ],
      "metadata": {
        "colab": {
          "base_uri": "https://localhost:8080/"
        },
        "id": "UDsFyo1L0aMN",
        "outputId": "c2dd4b90-0d8a-43a3-b2d3-62d10e18a7ca"
      },
      "execution_count": 5,
      "outputs": [
        {
          "output_type": "stream",
          "name": "stdout",
          "text": [
            "25\n"
          ]
        }
      ]
    },
    {
      "cell_type": "markdown",
      "source": [
        "- Modify the list"
      ],
      "metadata": {
        "id": "TkubpxlF2tAe"
      }
    },
    {
      "cell_type": "code",
      "source": [
        "list_cont[3]=21\n",
        "print(list_cont)"
      ],
      "metadata": {
        "colab": {
          "base_uri": "https://localhost:8080/"
        },
        "id": "DeoAo6Nd19Kk",
        "outputId": "217a1a98-fafd-4b4c-b25e-6aacfb072d9b"
      },
      "execution_count": 9,
      "outputs": [
        {
          "output_type": "stream",
          "name": "stdout",
          "text": [
            "[15, 20, 25, 21, 35, 40]\n"
          ]
        }
      ]
    },
    {
      "cell_type": "markdown",
      "source": [
        "- Deleting the element from the list"
      ],
      "metadata": {
        "id": "znjhrGd63Vdb"
      }
    },
    {
      "cell_type": "code",
      "source": [
        "del(list_cont[-1])\n",
        "print(list_cont)"
      ],
      "metadata": {
        "colab": {
          "base_uri": "https://localhost:8080/"
        },
        "id": "eOh5Pu5P3AoC",
        "outputId": "ea5e0fe7-4cb4-4ced-81ec-02c2235c34c0"
      },
      "execution_count": 11,
      "outputs": [
        {
          "output_type": "stream",
          "name": "stdout",
          "text": [
            "[15, 20, 25, 21, 35]\n"
          ]
        }
      ]
    },
    {
      "cell_type": "markdown",
      "source": [
        "4.  Comparing Tuples and Lists\n",
        "\n",
        "Tuples:\n",
        "\n",
        "- Immutable (cannot be changed after creation).\n",
        "\n",
        "- Ordered.\n",
        "\n",
        "- Typically used for fixed collections of items.\n",
        "\n",
        "Lists:\n",
        "\n",
        "- Mutable (can be changed after creation).\n",
        "- Ordered.\n",
        "- Used when the collection is likely to change.\n",
        "\n",
        "for eg:-"
      ],
      "metadata": {
        "id": "BaqLnS1M381i"
      }
    },
    {
      "cell_type": "code",
      "source": [
        "my_tuple = (1, 2, 3)#tuple ()\n",
        "my_list = [1, 2, 3]#list  []"
      ],
      "metadata": {
        "id": "kGqrKWtU34No"
      },
      "execution_count": null,
      "outputs": []
    },
    {
      "cell_type": "markdown",
      "source": [
        "5.  Key Features of Sets in Python\n",
        "- Unordered: Elements have no specific order.\n",
        "\n",
        "- No Duplicates: Sets automatically remove duplicates.\n",
        "\n",
        "- Mutable: Elements can be added or removed.\n",
        "\n",
        "for eg:-\n",
        "\n"
      ],
      "metadata": {
        "id": "IOcReNno5Tp8"
      }
    },
    {
      "cell_type": "code",
      "source": [
        "my_set = {1, 2, 3, 4, 4}  # Output: {1, 2, 3, 4} (duplicates removed)\n",
        "my_set.add(5)\n",
        "print(my_set)\n"
      ],
      "metadata": {
        "colab": {
          "base_uri": "https://localhost:8080/"
        },
        "id": "UhDT2ruP6vIB",
        "outputId": "cebacbc3-b75c-4063-8d56-05542467e648"
      },
      "execution_count": 13,
      "outputs": [
        {
          "output_type": "stream",
          "name": "stdout",
          "text": [
            "{1, 2, 3, 4, 5}\n"
          ]
        }
      ]
    },
    {
      "cell_type": "markdown",
      "source": [
        "6. Use Cases for Tuples and Sets in Python:\n",
        "- Tuples: Useful when you need to store a collection that should not change, such as coordinates (latitude, longitude).\n",
        "\n",
        "for eg:-"
      ],
      "metadata": {
        "id": "ZeCPpOOW7qtY"
      }
    },
    {
      "cell_type": "code",
      "source": [
        "coordinates = (45.0, 93.0)"
      ],
      "metadata": {
        "id": "a4yc43Ik6w9F"
      },
      "execution_count": null,
      "outputs": []
    },
    {
      "cell_type": "markdown",
      "source": [
        "- Sets: Ideal when you need to ensure uniqueness, like storing a collection of unique items (e.g., unique IDs).\n",
        "\n",
        "for eg:-"
      ],
      "metadata": {
        "id": "cqetkDm17_-C"
      }
    },
    {
      "cell_type": "code",
      "source": [
        "unique_ids = {101, 102, 103}"
      ],
      "metadata": {
        "id": "a2lU-zUS8JDH"
      },
      "execution_count": 14,
      "outputs": []
    },
    {
      "cell_type": "markdown",
      "source": [
        "7. Adding, Modifying, and Deleting Items in a Dictionary:\n",
        "\n",
        "- Adding or Modifying: Use the key to assign a value."
      ],
      "metadata": {
        "id": "nr2p4P3n8USs"
      }
    },
    {
      "cell_type": "code",
      "source": [
        "my_dict = {\"name\": \"John\", \"age\": 25}\n",
        "my_dict[\"age\"] = 26  # Modifies 'age'\n",
        "my_dict[\"city\"] = \"New York\"  # Adds a new key-value pair\n",
        "print(my_dict)\n"
      ],
      "metadata": {
        "colab": {
          "base_uri": "https://localhost:8080/"
        },
        "id": "GeoVFml38NIv",
        "outputId": "3ea170f5-5349-4b35-b7fe-6d9242b0f25f"
      },
      "execution_count": 15,
      "outputs": [
        {
          "output_type": "stream",
          "name": "stdout",
          "text": [
            "{'name': 'John', 'age': 26, 'city': 'New York'}\n"
          ]
        }
      ]
    },
    {
      "cell_type": "markdown",
      "source": [
        "- Deleting: Use del or pop()."
      ],
      "metadata": {
        "id": "Ai7Kaslo9EOk"
      }
    },
    {
      "cell_type": "code",
      "source": [
        "del(my_dict[\"age\"])\n",
        "print(my_dict)"
      ],
      "metadata": {
        "colab": {
          "base_uri": "https://localhost:8080/"
        },
        "id": "DIufhCTq8-TQ",
        "outputId": "2e967147-580c-4bf9-f518-fc5432904705"
      },
      "execution_count": 17,
      "outputs": [
        {
          "output_type": "stream",
          "name": "stdout",
          "text": [
            "{'name': 'John', 'city': 'New York'}\n"
          ]
        }
      ]
    },
    {
      "cell_type": "markdown",
      "source": [
        "8. Importance of Dictionary Keys Being Immutable:\n",
        "\n",
        "Dictionary keys must be immutable so that their value doesn't change, ensuring the hash remains consistent (dictionaries use hash tables). Immutable types like strings, numbers, and tuples can be keys, but mutable types like lists cannot."
      ],
      "metadata": {
        "id": "ol7hMXl19nzY"
      }
    },
    {
      "cell_type": "code",
      "source": [
        "my_dict = {(1, 2): 'point', 'name': 'John'}\n",
        "print (my_dict[[1, 2]]) = 'error'  # Lists are mutable\n"
      ],
      "metadata": {
        "colab": {
          "base_uri": "https://localhost:8080/",
          "height": 106
        },
        "id": "Zb8vN3nK99Fc",
        "outputId": "f66e6f8f-dc1e-443c-9b2c-2c9e43f4ffd6"
      },
      "execution_count": 19,
      "outputs": [
        {
          "output_type": "error",
          "ename": "SyntaxError",
          "evalue": "cannot assign to function call here. Maybe you meant '==' instead of '='? (<ipython-input-19-d362d9135182>, line 2)",
          "traceback": [
            "\u001b[0;36m  File \u001b[0;32m\"<ipython-input-19-d362d9135182>\"\u001b[0;36m, line \u001b[0;32m2\u001b[0m\n\u001b[0;31m    print (my_dict[[1, 2]]) = 'error'  # Lists are mutable\u001b[0m\n\u001b[0m    ^\u001b[0m\n\u001b[0;31mSyntaxError\u001b[0m\u001b[0;31m:\u001b[0m cannot assign to function call here. Maybe you meant '==' instead of '='?\n"
          ]
        }
      ]
    },
    {
      "cell_type": "code",
      "source": [],
      "metadata": {
        "id": "gW5AEzcC-ZFP"
      },
      "execution_count": null,
      "outputs": []
    }
  ]
}